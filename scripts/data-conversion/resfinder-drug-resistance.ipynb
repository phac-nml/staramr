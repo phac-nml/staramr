{
 "cells": [
  {
   "cell_type": "markdown",
   "id": "07359710-d359-4be9-908f-97c4880ce1b8",
   "metadata": {},
   "source": [
    "# 1. Load up Excel file"
   ]
  },
  {
   "cell_type": "code",
   "execution_count": 1,
   "id": "ba3db1bf-344d-40c7-a4d4-fb5dab85a822",
   "metadata": {},
   "outputs": [
    {
     "data": {
      "text/plain": [
       "dict_keys(['Aminoglycoside', 'B-lactam', 'Colistin', 'Fosfomycin', 'Fusidic acid', 'Glycopeptide', 'Macrolide', 'Nitroimidazole', 'Oxazolidinone', 'Phenicol', 'Quinolone', 'Rifampicin', 'Sulphonamide', 'Tetracycline', 'Trimethoprim', 'Non-functional'])"
      ]
     },
     "execution_count": 1,
     "metadata": {},
     "output_type": "execute_result"
    }
   ],
   "source": [
    "import pandas as pd\n",
    "\n",
    "resfinder_file = '../../drug-key-update/Resfinder 3.0 drug key 072621.xlsx'\n",
    "\n",
    "resfinder_excel = pd.ExcelFile(resfinder_file)\n",
    "sheets_df_map_orig = {n: pd.read_excel(resfinder_excel, sheet_name=n, header=None) for n in resfinder_excel.sheet_names}\n",
    "sheets_df_map_orig.keys()"
   ]
  },
  {
   "cell_type": "markdown",
   "id": "aad2a89d-d802-4dff-83bd-378d1573f71b",
   "metadata": {},
   "source": [
    "# 2. Add organism names/column names"
   ]
  },
  {
   "cell_type": "code",
   "execution_count": 2,
   "id": "247c35d5-3075-4a6f-aad8-c6da5b908b7b",
   "metadata": {},
   "outputs": [
    {
     "data": {
      "text/html": [
       "<div>\n",
       "<style scoped>\n",
       "    .dataframe tbody tr th:only-of-type {\n",
       "        vertical-align: middle;\n",
       "    }\n",
       "\n",
       "    .dataframe tbody tr th {\n",
       "        vertical-align: top;\n",
       "    }\n",
       "\n",
       "    .dataframe thead th {\n",
       "        text-align: right;\n",
       "    }\n",
       "</style>\n",
       "<table border=\"1\" class=\"dataframe\">\n",
       "  <thead>\n",
       "    <tr style=\"text-align: right;\">\n",
       "      <th></th>\n",
       "      <th>Class</th>\n",
       "      <th>gene_accession</th>\n",
       "      <th>Drug</th>\n",
       "      <th>2</th>\n",
       "    </tr>\n",
       "  </thead>\n",
       "  <tbody>\n",
       "    <tr>\n",
       "      <th>0</th>\n",
       "      <td>aminoglycoside</td>\n",
       "      <td>aac(6')-Ib_2_M23634</td>\n",
       "      <td>gentamicin</td>\n",
       "      <td>NaN</td>\n",
       "    </tr>\n",
       "    <tr>\n",
       "      <th>1</th>\n",
       "      <td>aminoglycoside</td>\n",
       "      <td>aac(6')-Ib11_1_AY136758</td>\n",
       "      <td>gentamicin</td>\n",
       "      <td>NaN</td>\n",
       "    </tr>\n",
       "    <tr>\n",
       "      <th>2</th>\n",
       "      <td>aminoglycoside</td>\n",
       "      <td>aac(6')-30-aac(6')-Ib'_1_AJ584652</td>\n",
       "      <td>gentamicin</td>\n",
       "      <td>NaN</td>\n",
       "    </tr>\n",
       "  </tbody>\n",
       "</table>\n",
       "</div>"
      ],
      "text/plain": [
       "            Class                     gene_accession        Drug    2\n",
       "0  aminoglycoside                aac(6')-Ib_2_M23634  gentamicin  NaN\n",
       "1  aminoglycoside            aac(6')-Ib11_1_AY136758  gentamicin  NaN\n",
       "2  aminoglycoside  aac(6')-30-aac(6')-Ib'_1_AJ584652  gentamicin  NaN"
      ]
     },
     "execution_count": 2,
     "metadata": {},
     "output_type": "execute_result"
    }
   ],
   "source": [
    "sheets_df_map = {n.lower().replace(' ', ''): sheets_df_map_orig[n] for n in sheets_df_map_orig}\n",
    "sheets_df_map['beta-lactam'] = sheets_df_map['b-lactam']\n",
    "del sheets_df_map['b-lactam']\n",
    "sheets_df_map.keys()\n",
    "\n",
    "sheets_df_map = {n: sheets_df_map[n].rename(\n",
    "    {0: 'gene_accession', 1: 'Drug'}, axis='columns') for n in sheets_df_map}\n",
    "for n in sheets_df_map:\n",
    "    sheets_df_map[n].insert(0, 'Class', n)\n",
    "    \n",
    "sheets_df_map['aminoglycoside'].head(3)"
   ]
  },
  {
   "cell_type": "code",
   "execution_count": 3,
   "id": "7ad1a1b3-e7a3-4617-94ce-cf4515f67fe1",
   "metadata": {},
   "outputs": [
    {
     "data": {
      "text/html": [
       "<div>\n",
       "<style scoped>\n",
       "    .dataframe tbody tr th:only-of-type {\n",
       "        vertical-align: middle;\n",
       "    }\n",
       "\n",
       "    .dataframe tbody tr th {\n",
       "        vertical-align: top;\n",
       "    }\n",
       "\n",
       "    .dataframe thead th {\n",
       "        text-align: right;\n",
       "    }\n",
       "</style>\n",
       "<table border=\"1\" class=\"dataframe\">\n",
       "  <thead>\n",
       "    <tr style=\"text-align: right;\">\n",
       "      <th></th>\n",
       "      <th>Class</th>\n",
       "      <th>gene_accession</th>\n",
       "      <th>Drug</th>\n",
       "      <th>2</th>\n",
       "      <th>3</th>\n",
       "      <th>4</th>\n",
       "      <th>5</th>\n",
       "    </tr>\n",
       "  </thead>\n",
       "  <tbody>\n",
       "    <tr>\n",
       "      <th>0</th>\n",
       "      <td>aminoglycoside</td>\n",
       "      <td>aac(6')-Ib_2_M23634</td>\n",
       "      <td>gentamicin</td>\n",
       "      <td>NaN</td>\n",
       "      <td>NaN</td>\n",
       "      <td>NaN</td>\n",
       "      <td>NaN</td>\n",
       "    </tr>\n",
       "    <tr>\n",
       "      <th>1</th>\n",
       "      <td>aminoglycoside</td>\n",
       "      <td>aac(6')-Ib11_1_AY136758</td>\n",
       "      <td>gentamicin</td>\n",
       "      <td>NaN</td>\n",
       "      <td>NaN</td>\n",
       "      <td>NaN</td>\n",
       "      <td>NaN</td>\n",
       "    </tr>\n",
       "    <tr>\n",
       "      <th>2</th>\n",
       "      <td>aminoglycoside</td>\n",
       "      <td>aac(6')-30-aac(6')-Ib'_1_AJ584652</td>\n",
       "      <td>gentamicin</td>\n",
       "      <td>NaN</td>\n",
       "      <td>NaN</td>\n",
       "      <td>NaN</td>\n",
       "      <td>NaN</td>\n",
       "    </tr>\n",
       "  </tbody>\n",
       "</table>\n",
       "</div>"
      ],
      "text/plain": [
       "            Class                     gene_accession        Drug    2    3  \\\n",
       "0  aminoglycoside                aac(6')-Ib_2_M23634  gentamicin  NaN  NaN   \n",
       "1  aminoglycoside            aac(6')-Ib11_1_AY136758  gentamicin  NaN  NaN   \n",
       "2  aminoglycoside  aac(6')-30-aac(6')-Ib'_1_AJ584652  gentamicin  NaN  NaN   \n",
       "\n",
       "     4    5  \n",
       "0  NaN  NaN  \n",
       "1  NaN  NaN  \n",
       "2  NaN  NaN  "
      ]
     },
     "execution_count": 3,
     "metadata": {},
     "output_type": "execute_result"
    }
   ],
   "source": [
    "sheets_list = [sheets_df_map[n] for n in sorted(sheets_df_map.keys())]\n",
    "\n",
    "resfinder_df_orig = pd.concat(sheets_list).reset_index(drop=True)\n",
    "resfinder_df_orig.head(3)"
   ]
  },
  {
   "cell_type": "markdown",
   "id": "1db5ab83-aa4d-44b1-be16-c26bc1822be9",
   "metadata": {},
   "source": [
    "## 2.1. Join together extra columns and see what they contain"
   ]
  },
  {
   "cell_type": "code",
   "execution_count": 4,
   "id": "fb20e101-6ba9-4d7c-be25-6f3bac08ec07",
   "metadata": {},
   "outputs": [
    {
     "data": {
      "text/plain": [
       "                                                                                                                                                                                                                            3069\n",
       "formerly aadB                                                                                                                                                                                                                 19\n",
       "formerly aadE                                                                                                                                                                                                                  2\n",
       "formerly strA                                                                                                                                                                                                                  2\n",
       "AMRfinderShig/Ecoeffluxchromosomal wildtype pump                                                                                                                                                                               2\n",
       " formerly strA_2                                                                                                                                                                                                               1\n",
       " formerly strA_3                                                                                                                                                                                                               1\n",
       "Resfinder BNEcomacrolidesremoved from updated Resfinder                                                                                                                                                                        1\n",
       "Resfinder JessSal/Ecoeffluxdisinfectants                                                                                                                                                                                       1\n",
       "ResfinderShig/Ecoeffluxchromosomal wildtype pump, hidden                                                                                                                                                                       1\n",
       "AMRfindermultipleSTREPTOGRAMINdrug not tested                                                                                                                                                                                  1\n",
       "AMRfindermultipleQUATERNARY AMMONIUMdrug not tested, biocide                                                                                                                                                                   1\n",
       "AMRfindermultipleSTREPTOTHRICINdrug not tested                                                                                                                                                                                 1\n",
       "ResfinderSalmonellaaminoglycosidecryptic chromosomal wildtype gene, hidden                                                                                                                                                     1\n",
       "ResfinderSalmonellaquinolonescommon mutation, little or no effect on MICs, hidden                                                                                                                                              1\n",
       "AMRfinderSalmonellaeffluxchromosomal wildtype pump, may be involved in virulence                                                                                                                                               1\n",
       "AMRfinderShig/Ecoeffluxchromosomal wildtype pump, similar to AR pump in Klebsiella, may be involved in biofilm formation                                                                                                       1\n",
       "formerly aadA4                                                                                                                                                                                                                 1\n",
       "AMRfinderShig/EcoB-lactamchromosomal wildtype gene, promoter mutations needed for function                                                                                                                                     1\n",
       "databaseorganismdrug classnotes                                                                                                                                                                                                1\n",
       "formerly strB_3                                                                                                                                                                                                                1\n",
       " formerly strA_4                                                                                                                                                                                                               1\n",
       "*due to the higher breakpoints for some Enterobacteriaceae including shigella and E. coli, PMQRs are predicted to confer decreased susceptibility to fluoroquinolones but not intermediate susceptibility or resistance.       1\n",
       "Name: Other, dtype: int64"
      ]
     },
     "execution_count": 4,
     "metadata": {},
     "output_type": "execute_result"
    }
   ],
   "source": [
    "df = resfinder_df_orig.drop(['Class', 'gene_accession', 'Drug'],\n",
    "                       axis='columns')\n",
    "ds = pd.Series(df.fillna('').values.tolist()).str.join('')\n",
    "\n",
    "resfinder_df_orig2 = resfinder_df_orig.copy()\n",
    "resfinder_df_orig2['Other'] = ds\n",
    "resfinder_df_orig2['Other'].value_counts()"
   ]
  },
  {
   "cell_type": "markdown",
   "id": "70c84fb4-6e2b-4ee5-a4d8-b03c56808730",
   "metadata": {},
   "source": [
    "# 3. Fix up columns"
   ]
  },
  {
   "cell_type": "code",
   "execution_count": 5,
   "id": "1cbeebcf-cebb-4fb1-b063-b4bea7dc06cb",
   "metadata": {},
   "outputs": [
    {
     "data": {
      "text/plain": [
       "0                     aac(6')-Ib_2_M23634\n",
       "1                 aac(6')-Ib11_1_AY136758\n",
       "2       aac(6')-30-aac(6')-Ib'_1_AJ584652\n",
       "3                  aac(6')-Iaj_1_AB709942\n",
       "4                  aac(6')-Ian_1_AP014611\n",
       "                      ...                \n",
       "3107                    dfrA17_6_AF180469\n",
       "3108                    dfrA17_7_AB196349\n",
       "3109                    dfrA17_8_AM932673\n",
       "3110                    dfrA17_9_FJ807902\n",
       "3111                   dfrA17_10_AM937244\n",
       "Name: gene_accession, Length: 3112, dtype: object"
      ]
     },
     "execution_count": 5,
     "metadata": {},
     "output_type": "execute_result"
    }
   ],
   "source": [
    "resfinder_df_orig2['gene_accession']"
   ]
  },
  {
   "cell_type": "code",
   "execution_count": 6,
   "id": "52028c02-0f54-4fc0-844d-f77e971fce1f",
   "metadata": {},
   "outputs": [
    {
     "data": {
      "text/html": [
       "<div>\n",
       "<style scoped>\n",
       "    .dataframe tbody tr th:only-of-type {\n",
       "        vertical-align: middle;\n",
       "    }\n",
       "\n",
       "    .dataframe tbody tr th {\n",
       "        vertical-align: top;\n",
       "    }\n",
       "\n",
       "    .dataframe thead th {\n",
       "        text-align: right;\n",
       "    }\n",
       "</style>\n",
       "<table border=\"1\" class=\"dataframe\">\n",
       "  <thead>\n",
       "    <tr style=\"text-align: right;\">\n",
       "      <th></th>\n",
       "      <th>Class</th>\n",
       "      <th>Gene</th>\n",
       "      <th>Accession</th>\n",
       "      <th>Drug</th>\n",
       "    </tr>\n",
       "  </thead>\n",
       "  <tbody>\n",
       "    <tr>\n",
       "      <th>0</th>\n",
       "      <td>aminoglycoside</td>\n",
       "      <td>aac(6')-Ib_2</td>\n",
       "      <td>M23634</td>\n",
       "      <td>gentamicin</td>\n",
       "    </tr>\n",
       "    <tr>\n",
       "      <th>1</th>\n",
       "      <td>aminoglycoside</td>\n",
       "      <td>aac(6')-Ib11_1</td>\n",
       "      <td>AY136758</td>\n",
       "      <td>gentamicin</td>\n",
       "    </tr>\n",
       "    <tr>\n",
       "      <th>2</th>\n",
       "      <td>aminoglycoside</td>\n",
       "      <td>aac(6')-30-aac(6')-Ib'_1</td>\n",
       "      <td>AJ584652</td>\n",
       "      <td>gentamicin</td>\n",
       "    </tr>\n",
       "    <tr>\n",
       "      <th>3</th>\n",
       "      <td>aminoglycoside</td>\n",
       "      <td>aac(6')-Iaj_1</td>\n",
       "      <td>AB709942</td>\n",
       "      <td>gentamicin</td>\n",
       "    </tr>\n",
       "    <tr>\n",
       "      <th>4</th>\n",
       "      <td>aminoglycoside</td>\n",
       "      <td>aac(6')-Ian_1</td>\n",
       "      <td>AP014611</td>\n",
       "      <td>gentamicin</td>\n",
       "    </tr>\n",
       "    <tr>\n",
       "      <th>...</th>\n",
       "      <td>...</td>\n",
       "      <td>...</td>\n",
       "      <td>...</td>\n",
       "      <td>...</td>\n",
       "    </tr>\n",
       "    <tr>\n",
       "      <th>3107</th>\n",
       "      <td>trimethoprim</td>\n",
       "      <td>dfrA17_6</td>\n",
       "      <td>AF180469</td>\n",
       "      <td>trimethoprim</td>\n",
       "    </tr>\n",
       "    <tr>\n",
       "      <th>3108</th>\n",
       "      <td>trimethoprim</td>\n",
       "      <td>dfrA17_7</td>\n",
       "      <td>AB196349</td>\n",
       "      <td>trimethoprim</td>\n",
       "    </tr>\n",
       "    <tr>\n",
       "      <th>3109</th>\n",
       "      <td>trimethoprim</td>\n",
       "      <td>dfrA17_8</td>\n",
       "      <td>AM932673</td>\n",
       "      <td>trimethoprim</td>\n",
       "    </tr>\n",
       "    <tr>\n",
       "      <th>3110</th>\n",
       "      <td>trimethoprim</td>\n",
       "      <td>dfrA17_9</td>\n",
       "      <td>FJ807902</td>\n",
       "      <td>trimethoprim</td>\n",
       "    </tr>\n",
       "    <tr>\n",
       "      <th>3111</th>\n",
       "      <td>trimethoprim</td>\n",
       "      <td>dfrA17_10</td>\n",
       "      <td>AM937244</td>\n",
       "      <td>trimethoprim</td>\n",
       "    </tr>\n",
       "  </tbody>\n",
       "</table>\n",
       "<p>3098 rows × 4 columns</p>\n",
       "</div>"
      ],
      "text/plain": [
       "               Class                      Gene Accession          Drug\n",
       "0     aminoglycoside              aac(6')-Ib_2    M23634    gentamicin\n",
       "1     aminoglycoside            aac(6')-Ib11_1  AY136758    gentamicin\n",
       "2     aminoglycoside  aac(6')-30-aac(6')-Ib'_1  AJ584652    gentamicin\n",
       "3     aminoglycoside             aac(6')-Iaj_1  AB709942    gentamicin\n",
       "4     aminoglycoside             aac(6')-Ian_1  AP014611    gentamicin\n",
       "...              ...                       ...       ...           ...\n",
       "3107    trimethoprim                  dfrA17_6  AF180469  trimethoprim\n",
       "3108    trimethoprim                  dfrA17_7  AB196349  trimethoprim\n",
       "3109    trimethoprim                  dfrA17_8  AM932673  trimethoprim\n",
       "3110    trimethoprim                  dfrA17_9  FJ807902  trimethoprim\n",
       "3111    trimethoprim                 dfrA17_10  AM937244  trimethoprim\n",
       "\n",
       "[3098 rows x 4 columns]"
      ]
     },
     "execution_count": 6,
     "metadata": {},
     "output_type": "execute_result"
    }
   ],
   "source": [
    "# Get rid of all \"non-functional\" entries\n",
    "resfinder_df_orig3 = resfinder_df_orig2.copy()\n",
    "resfinder_df_orig3 = resfinder_df_orig3[resfinder_df_orig3['Class'] != 'non-functional'].copy()\n",
    "\n",
    "# Split apart the gene and accession\n",
    "extracted_columns = resfinder_df_orig3['gene_accession'].str.extract(r'^(.*?)_(N[^_]_[^_]+|[^_]+)$',\n",
    "                                                                     expand=True)\n",
    "resfinder_df_orig3[['Gene', 'Accession']] = extracted_columns\n",
    "resfinder_df_orig3['Accession'] = resfinder_df_orig3['Accession'].str.replace(r'^_', '',\n",
    "                                                                             regex=True)\n",
    "\n",
    "resfinder_df = resfinder_df_orig3[['Class', 'Gene', 'Accession', 'Drug']].copy()\n",
    "\n",
    "# Everything should be lower-case\n",
    "resfinder_df['Drug'] = resfinder_df['Drug'].str.lower()\n",
    "# Except I/R, which should be upper-case\n",
    "resfinder_df['Drug'] = resfinder_df['Drug'].str.replace('i/r', 'I/R')\n",
    "\n",
    "# There are mixtures of spaces and commas separating drugs here. First get rid of commas\n",
    "resfinder_df['Drug'] = resfinder_df['Drug'].str.replace(',', ' ')\n",
    "\n",
    "# Get rid of spaces at the very beginning or end\n",
    "resfinder_df['Drug'] = resfinder_df['Drug'].str.strip()\n",
    "\n",
    "# Now, get rid of spaces and replace with commas\n",
    "resfinder_df['Drug'] = resfinder_df['Drug'].str.replace('\\s+', ',', regex=True)\n",
    "\n",
    "# Now fix up specific cases where there should be spaces\n",
    "resfinder_df['Drug'] = resfinder_df['Drug'].str.replace(',acid', ' acid')\n",
    "resfinder_df['Drug'] = resfinder_df['Drug'].str.replace(',I/R', ' I/R')\n",
    "resfinder_df['Drug'] = resfinder_df['Drug'].str.\\\n",
    "  replace('(,decreased,susceptibility,to,meropenem)',\n",
    "          'decreased susceptibility to meropenem', regex=False)\n",
    "\n",
    "# Fix up lack of spaces or other issues\n",
    "resfinder_df['Drug'] = resfinder_df['Drug'].str.replace('inI/R', 'in I/R')\n",
    "resfinder_df['Drug'] = resfinder_df['Drug'].str.replace('(I/R)', ' I/R', regex=False)\n",
    "\n",
    "# Change \"None\" to NA\n",
    "resfinder_df['Drug'] = resfinder_df['Drug'].replace('None', pd.NA)\n",
    "resfinder_df['Drug'] = resfinder_df['Drug'].replace('none', pd.NA)\n",
    "\n",
    "resfinder_df"
   ]
  },
  {
   "cell_type": "code",
   "execution_count": 7,
   "id": "44663836-3cb9-49e4-bd78-2466a782d3d3",
   "metadata": {},
   "outputs": [
    {
     "data": {
      "text/html": [
       "<div>\n",
       "<style scoped>\n",
       "    .dataframe tbody tr th:only-of-type {\n",
       "        vertical-align: middle;\n",
       "    }\n",
       "\n",
       "    .dataframe tbody tr th {\n",
       "        vertical-align: top;\n",
       "    }\n",
       "\n",
       "    .dataframe thead th {\n",
       "        text-align: right;\n",
       "    }\n",
       "</style>\n",
       "<table border=\"1\" class=\"dataframe\">\n",
       "  <thead>\n",
       "    <tr style=\"text-align: right;\">\n",
       "      <th></th>\n",
       "      <th>Class</th>\n",
       "      <th>gene_accession</th>\n",
       "      <th>Drug</th>\n",
       "      <th>2</th>\n",
       "      <th>3</th>\n",
       "      <th>4</th>\n",
       "      <th>5</th>\n",
       "      <th>Other</th>\n",
       "      <th>Gene</th>\n",
       "      <th>Accession</th>\n",
       "    </tr>\n",
       "  </thead>\n",
       "  <tbody>\n",
       "    <tr>\n",
       "      <th>151</th>\n",
       "      <td>aminoglycoside</td>\n",
       "      <td>aac(6')-IIc_1_NC_012555</td>\n",
       "      <td>amikacin gentamicin tobramycin</td>\n",
       "      <td>NaN</td>\n",
       "      <td>NaN</td>\n",
       "      <td>NaN</td>\n",
       "      <td>NaN</td>\n",
       "      <td></td>\n",
       "      <td>aac(6')-IIc_1</td>\n",
       "      <td>NC_012555</td>\n",
       "    </tr>\n",
       "  </tbody>\n",
       "</table>\n",
       "</div>"
      ],
      "text/plain": [
       "              Class           gene_accession                            Drug  \\\n",
       "151  aminoglycoside  aac(6')-IIc_1_NC_012555  amikacin gentamicin tobramycin   \n",
       "\n",
       "       2    3    4    5 Other           Gene  Accession  \n",
       "151  NaN  NaN  NaN  NaN        aac(6')-IIc_1  NC_012555  "
      ]
     },
     "execution_count": 7,
     "metadata": {},
     "output_type": "execute_result"
    }
   ],
   "source": [
    "# Look at one of the more problematic cases of extracting the accession number\n",
    "resfinder_df_orig3[resfinder_df_orig3['Accession'].str.contains('012555')]"
   ]
  },
  {
   "cell_type": "markdown",
   "id": "85038d30-ec3d-494a-b03f-8f61a9f7be07",
   "metadata": {},
   "source": [
    "# 4. Save ResFinder resistance table"
   ]
  },
  {
   "cell_type": "code",
   "execution_count": 8,
   "id": "be0dddd6-92db-4720-9632-3ccfa5bfbd7a",
   "metadata": {},
   "outputs": [],
   "source": [
    "resfinder_df.to_csv('../../staramr/databases/resistance/data/ARG_drug_key_resfinder.tsv', sep='\\t', index=False)"
   ]
  }
 ],
 "metadata": {
  "kernelspec": {
   "display_name": "Python 3 (ipykernel)",
   "language": "python",
   "name": "python3"
  },
  "language_info": {
   "codemirror_mode": {
    "name": "ipython",
    "version": 3
   },
   "file_extension": ".py",
   "mimetype": "text/x-python",
   "name": "python",
   "nbconvert_exporter": "python",
   "pygments_lexer": "ipython3",
   "version": "3.10.4"
  }
 },
 "nbformat": 4,
 "nbformat_minor": 5
}
