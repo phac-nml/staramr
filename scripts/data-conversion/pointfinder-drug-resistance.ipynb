{
 "cells": [
  {
   "cell_type": "markdown",
   "id": "11437c85-f4c3-4077-8cf5-3ca45956808e",
   "metadata": {},
   "source": [
    "# 1. Load up Excel file"
   ]
  },
  {
   "cell_type": "code",
   "execution_count": 1,
   "id": "2a103064-6de5-4126-8228-0444a8ef19da",
   "metadata": {},
   "outputs": [
    {
     "data": {
      "text/plain": [
       "dict_keys(['Salmonella', 'Shigella E. coli', 'Campylobacter'])"
      ]
     },
     "execution_count": 1,
     "metadata": {},
     "output_type": "execute_result"
    }
   ],
   "source": [
    "import pandas as pd\n",
    "\n",
    "pointfinder_file = '../../drug-key-update/pointfinder 072621.xlsx'\n",
    "\n",
    "pointfinder_excel = pd.ExcelFile(pointfinder_file)\n",
    "sheets_df_map_orig = {n: pd.read_excel(pointfinder_excel, sheet_name=n, header=None) for n in pointfinder_excel.sheet_names}\n",
    "sheets_df_map_orig.keys()"
   ]
  },
  {
   "cell_type": "markdown",
   "id": "804bcd6b-9e06-4f3a-b4d5-b6214e2aa546",
   "metadata": {},
   "source": [
    "# 2. Add organism names/column names"
   ]
  },
  {
   "cell_type": "code",
   "execution_count": 2,
   "id": "5205c309-9b8b-44ac-8e6c-09ceb23ee5a8",
   "metadata": {},
   "outputs": [
    {
     "data": {
      "text/html": [
       "<div>\n",
       "<style scoped>\n",
       "    .dataframe tbody tr th:only-of-type {\n",
       "        vertical-align: middle;\n",
       "    }\n",
       "\n",
       "    .dataframe tbody tr th {\n",
       "        vertical-align: top;\n",
       "    }\n",
       "\n",
       "    .dataframe thead th {\n",
       "        text-align: right;\n",
       "    }\n",
       "</style>\n",
       "<table border=\"1\" class=\"dataframe\">\n",
       "  <thead>\n",
       "    <tr style=\"text-align: right;\">\n",
       "      <th></th>\n",
       "      <th>Organism</th>\n",
       "      <th>gene_mutation</th>\n",
       "      <th>Drug</th>\n",
       "    </tr>\n",
       "  </thead>\n",
       "  <tbody>\n",
       "    <tr>\n",
       "      <th>0</th>\n",
       "      <td>salmonella</td>\n",
       "      <td>pmrA(15)</td>\n",
       "      <td>colistin</td>\n",
       "    </tr>\n",
       "    <tr>\n",
       "      <th>1</th>\n",
       "      <td>salmonella</td>\n",
       "      <td>pmrA(53)</td>\n",
       "      <td>colistin</td>\n",
       "    </tr>\n",
       "    <tr>\n",
       "      <th>2</th>\n",
       "      <td>salmonella</td>\n",
       "      <td>pmrA(81)</td>\n",
       "      <td>colistin</td>\n",
       "    </tr>\n",
       "  </tbody>\n",
       "</table>\n",
       "</div>"
      ],
      "text/plain": [
       "     Organism gene_mutation      Drug\n",
       "0  salmonella      pmrA(15)  colistin\n",
       "1  salmonella      pmrA(53)  colistin\n",
       "2  salmonella      pmrA(81)  colistin"
      ]
     },
     "execution_count": 2,
     "metadata": {},
     "output_type": "execute_result"
    }
   ],
   "source": [
    "sheets_df_map = {\n",
    "    'salmonella': sheets_df_map_orig['Salmonella'],\n",
    "    'e.coli': sheets_df_map_orig['Shigella E. coli'],\n",
    "    'campylobacter': sheets_df_map_orig['Campylobacter'],\n",
    "}\n",
    "\n",
    "sheets_df_map = {n: sheets_df_map[n].rename({0: 'gene_mutation', 1: 'Drug'},\n",
    "                                        axis='columns') for n in sheets_df_map}\n",
    "for n in sheets_df_map:\n",
    "    sheets_df_map[n].insert(0, 'Organism', n)\n",
    "    \n",
    "sheets_df_map['salmonella'].head(3)"
   ]
  },
  {
   "cell_type": "code",
   "execution_count": 3,
   "id": "b3d33ba8-1f22-4547-b8da-ff994e114e2a",
   "metadata": {},
   "outputs": [
    {
     "data": {
      "text/html": [
       "<div>\n",
       "<style scoped>\n",
       "    .dataframe tbody tr th:only-of-type {\n",
       "        vertical-align: middle;\n",
       "    }\n",
       "\n",
       "    .dataframe tbody tr th {\n",
       "        vertical-align: top;\n",
       "    }\n",
       "\n",
       "    .dataframe thead th {\n",
       "        text-align: right;\n",
       "    }\n",
       "</style>\n",
       "<table border=\"1\" class=\"dataframe\">\n",
       "  <thead>\n",
       "    <tr style=\"text-align: right;\">\n",
       "      <th></th>\n",
       "      <th>Organism</th>\n",
       "      <th>gene_mutation</th>\n",
       "      <th>Drug</th>\n",
       "    </tr>\n",
       "  </thead>\n",
       "  <tbody>\n",
       "    <tr>\n",
       "      <th>0</th>\n",
       "      <td>salmonella</td>\n",
       "      <td>pmrA(15)</td>\n",
       "      <td>colistin</td>\n",
       "    </tr>\n",
       "    <tr>\n",
       "      <th>1</th>\n",
       "      <td>salmonella</td>\n",
       "      <td>pmrA(53)</td>\n",
       "      <td>colistin</td>\n",
       "    </tr>\n",
       "    <tr>\n",
       "      <th>2</th>\n",
       "      <td>salmonella</td>\n",
       "      <td>pmrA(81)</td>\n",
       "      <td>colistin</td>\n",
       "    </tr>\n",
       "  </tbody>\n",
       "</table>\n",
       "</div>"
      ],
      "text/plain": [
       "     Organism gene_mutation      Drug\n",
       "0  salmonella      pmrA(15)  colistin\n",
       "1  salmonella      pmrA(53)  colistin\n",
       "2  salmonella      pmrA(81)  colistin"
      ]
     },
     "execution_count": 3,
     "metadata": {},
     "output_type": "execute_result"
    }
   ],
   "source": [
    "pointfinder_df = pd.concat([sheets_df_map['salmonella'],\n",
    "                  sheets_df_map['e.coli'],\n",
    "                  sheets_df_map['campylobacter']\n",
    "]).reset_index(drop=True)\n",
    "\n",
    "pointfinder_df.head(3)"
   ]
  },
  {
   "cell_type": "markdown",
   "id": "9ae5bb22-7368-479e-aa2c-4126cd5c6871",
   "metadata": {},
   "source": [
    "# 3. Fix up columns"
   ]
  },
  {
   "cell_type": "code",
   "execution_count": 4,
   "id": "18f51e9a-51d3-4973-9977-70bbab8367d7",
   "metadata": {},
   "outputs": [
    {
     "data": {
      "text/html": [
       "<div>\n",
       "<style scoped>\n",
       "    .dataframe tbody tr th:only-of-type {\n",
       "        vertical-align: middle;\n",
       "    }\n",
       "\n",
       "    .dataframe tbody tr th {\n",
       "        vertical-align: top;\n",
       "    }\n",
       "\n",
       "    .dataframe thead th {\n",
       "        text-align: right;\n",
       "    }\n",
       "</style>\n",
       "<table border=\"1\" class=\"dataframe\">\n",
       "  <thead>\n",
       "    <tr style=\"text-align: right;\">\n",
       "      <th></th>\n",
       "      <th>Organism</th>\n",
       "      <th>Gene</th>\n",
       "      <th>Codon Pos.</th>\n",
       "      <th>Drug</th>\n",
       "    </tr>\n",
       "  </thead>\n",
       "  <tbody>\n",
       "    <tr>\n",
       "      <th>0</th>\n",
       "      <td>salmonella</td>\n",
       "      <td>pmrA</td>\n",
       "      <td>15</td>\n",
       "      <td>colistin</td>\n",
       "    </tr>\n",
       "    <tr>\n",
       "      <th>1</th>\n",
       "      <td>salmonella</td>\n",
       "      <td>pmrA</td>\n",
       "      <td>53</td>\n",
       "      <td>colistin</td>\n",
       "    </tr>\n",
       "    <tr>\n",
       "      <th>2</th>\n",
       "      <td>salmonella</td>\n",
       "      <td>pmrA</td>\n",
       "      <td>81</td>\n",
       "      <td>colistin</td>\n",
       "    </tr>\n",
       "    <tr>\n",
       "      <th>3</th>\n",
       "      <td>salmonella</td>\n",
       "      <td>pmrB</td>\n",
       "      <td>14</td>\n",
       "      <td>colistin</td>\n",
       "    </tr>\n",
       "    <tr>\n",
       "      <th>4</th>\n",
       "      <td>salmonella</td>\n",
       "      <td>pmrB</td>\n",
       "      <td>22</td>\n",
       "      <td>colistin</td>\n",
       "    </tr>\n",
       "    <tr>\n",
       "      <th>...</th>\n",
       "      <td>...</td>\n",
       "      <td>...</td>\n",
       "      <td>...</td>\n",
       "      <td>...</td>\n",
       "    </tr>\n",
       "    <tr>\n",
       "      <th>121</th>\n",
       "      <td>campylobacter</td>\n",
       "      <td>23S</td>\n",
       "      <td>2075</td>\n",
       "      <td>erythromycin,azithromycin,telithromycin,clinda...</td>\n",
       "    </tr>\n",
       "    <tr>\n",
       "      <th>122</th>\n",
       "      <td>campylobacter</td>\n",
       "      <td>cmeR</td>\n",
       "      <td>86</td>\n",
       "      <td>erythromycin,azithromycin,telithromycin,clinda...</td>\n",
       "    </tr>\n",
       "    <tr>\n",
       "      <th>123</th>\n",
       "      <td>campylobacter</td>\n",
       "      <td>L22</td>\n",
       "      <td>103</td>\n",
       "      <td>erythromycin</td>\n",
       "    </tr>\n",
       "    <tr>\n",
       "      <th>124</th>\n",
       "      <td>campylobacter</td>\n",
       "      <td>rpsL</td>\n",
       "      <td>43</td>\n",
       "      <td>streptomycin</td>\n",
       "    </tr>\n",
       "    <tr>\n",
       "      <th>125</th>\n",
       "      <td>campylobacter</td>\n",
       "      <td>rpsL</td>\n",
       "      <td>88</td>\n",
       "      <td>streptomycin</td>\n",
       "    </tr>\n",
       "  </tbody>\n",
       "</table>\n",
       "<p>126 rows × 4 columns</p>\n",
       "</div>"
      ],
      "text/plain": [
       "          Organism  Gene Codon Pos.  \\\n",
       "0       salmonella  pmrA         15   \n",
       "1       salmonella  pmrA         53   \n",
       "2       salmonella  pmrA         81   \n",
       "3       salmonella  pmrB         14   \n",
       "4       salmonella  pmrB         22   \n",
       "..             ...   ...        ...   \n",
       "121  campylobacter   23S       2075   \n",
       "122  campylobacter  cmeR         86   \n",
       "123  campylobacter   L22        103   \n",
       "124  campylobacter  rpsL         43   \n",
       "125  campylobacter  rpsL         88   \n",
       "\n",
       "                                                  Drug  \n",
       "0                                             colistin  \n",
       "1                                             colistin  \n",
       "2                                             colistin  \n",
       "3                                             colistin  \n",
       "4                                             colistin  \n",
       "..                                                 ...  \n",
       "121  erythromycin,azithromycin,telithromycin,clinda...  \n",
       "122  erythromycin,azithromycin,telithromycin,clinda...  \n",
       "123                                       erythromycin  \n",
       "124                                       streptomycin  \n",
       "125                                       streptomycin  \n",
       "\n",
       "[126 rows x 4 columns]"
      ]
     },
     "execution_count": 4,
     "metadata": {},
     "output_type": "execute_result"
    }
   ],
   "source": [
    "extracted_columns = pointfinder_df['gene_mutation'].str.extract(r'^([^(]+)\\((\\d+)\\)',\n",
    "                                                                expand=True)\n",
    "pointfinder_df_reduced = pointfinder_df.copy()\n",
    "pointfinder_df_reduced[['Gene', 'Codon Pos.']] = extracted_columns\n",
    "\n",
    "extracted_columns2 = pointfinder_df['gene_mutation'].str.extract(r'^(ampCprom)(-\\d+)',\n",
    "                                                                expand=True)\n",
    "extracted_columns2 = extracted_columns2.rename({0: 'Gene', 1: 'Codon Pos.'},\n",
    "                                              axis='columns')\n",
    "extracted_columns2 = extracted_columns2[~extracted_columns2['Gene'].isna()]\n",
    "\n",
    "pointfinder_df_reduced['gene_mutation'].str.match(r'^ampCprom')\n",
    "pointfinder_df_reduced.loc[pointfinder_df_reduced['gene_mutation']\\\n",
    "                           .str.match(r'^ampCprom'), ['Gene', 'Codon Pos.']] = extracted_columns2\n",
    "\n",
    "pointfinder_df_reduced = pointfinder_df_reduced[['Organism', 'Gene', 'Codon Pos.', 'Drug']]\n",
    "pointfinder_df_reduced['Gene'] = pointfinder_df_reduced['Gene'].str.replace('ampCprom', 'ampC_promoter_size_53bp')\n",
    "pointfinder_df_reduced['Drug'] = pointfinder_df_reduced['Drug'].str.replace(' ', ',')\n",
    "pointfinder_df_reduced['Drug'] = pointfinder_df_reduced['Drug'].str.replace(',acid', ' acid')\n",
    "pointfinder_df_reduced['Drug'] = pointfinder_df_reduced['Drug'].str.replace(',I/R', ' I/R')\n",
    "pointfinder_df_reduced['Drug'] = pointfinder_df_reduced['Drug'].str.replace('inI/R', 'in I/R')\n",
    "pointfinder_df_reduced['Drug'] = pointfinder_df_reduced['Drug'].replace('None', pd.NA)\n",
    "pointfinder_df_reduced"
   ]
  },
  {
   "cell_type": "markdown",
   "id": "d4bf5f71-b161-478f-b2b2-d86bc4ed75c5",
   "metadata": {},
   "source": [
    "# 4. Save pointfinder resitance table"
   ]
  },
  {
   "cell_type": "code",
   "execution_count": 5,
   "id": "0ace67c4-9124-4022-b693-ee99b04c5a62",
   "metadata": {},
   "outputs": [],
   "source": [
    "pointfinder_df_reduced.to_csv('../../staramr/databases/resistance/data/ARG_drug_key_pointfinder.tsv', sep='\\t', index=False)"
   ]
  }
 ],
 "metadata": {
  "kernelspec": {
   "display_name": "Python 3 (ipykernel)",
   "language": "python",
   "name": "python3"
  },
  "language_info": {
   "codemirror_mode": {
    "name": "ipython",
    "version": 3
   },
   "file_extension": ".py",
   "mimetype": "text/x-python",
   "name": "python",
   "nbconvert_exporter": "python",
   "pygments_lexer": "ipython3",
   "version": "3.10.4"
  }
 },
 "nbformat": 4,
 "nbformat_minor": 5
}
